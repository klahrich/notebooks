{
 "cells": [
  {
   "cell_type": "markdown",
   "metadata": {},
   "source": [
    "# Modeling the success of a Portuguese bank's marketing campaign"
   ]
  },
  {
   "cell_type": "code",
   "execution_count": 21,
   "metadata": {},
   "outputs": [],
   "source": [
    "import pandas as pd\n",
    "import numpy as np\n",
    "from sklearn.model_selection import KFold, cross_validate, GridSearchCV, train_test_split, ParameterSampler\n",
    "from xgboost import XGBClassifier, DMatrix, cv\n",
    "from sklearn.preprocessing import OneHotEncoder, OrdinalEncoder\n",
    "from sklearn.compose import make_column_transformer\n",
    "from sklearn.metrics import roc_auc_score, plot_precision_recall_curve, plot_roc_curve\n",
    "from time import time\n",
    "from scipy.stats import uniform\n",
    "from functools import partial\n",
    "from dask.distributed import Client\n",
    "import mlflow\n",
    "import os"
   ]
  },
  {
   "cell_type": "markdown",
   "metadata": {},
   "source": [
    "Data is taken from: https://www.openml.org/d/1461 and is related to direct marketing campaigns of a Portuguese banking institution.\n",
    "See the link for details.\n",
    "\n",
    "The goal is to predict whether a client will subscribe a term deposit or not (variable 'target' below)."
   ]
  },
  {
   "cell_type": "code",
   "execution_count": 2,
   "metadata": {},
   "outputs": [
    {
     "data": {
      "text/html": [
       "<div>\n",
       "<style scoped>\n",
       "    .dataframe tbody tr th:only-of-type {\n",
       "        vertical-align: middle;\n",
       "    }\n",
       "\n",
       "    .dataframe tbody tr th {\n",
       "        vertical-align: top;\n",
       "    }\n",
       "\n",
       "    .dataframe thead th {\n",
       "        text-align: right;\n",
       "    }\n",
       "</style>\n",
       "<table border=\"1\" class=\"dataframe\">\n",
       "  <thead>\n",
       "    <tr style=\"text-align: right;\">\n",
       "      <th></th>\n",
       "      <th>age</th>\n",
       "      <th>job</th>\n",
       "      <th>marital_status</th>\n",
       "      <th>education</th>\n",
       "      <th>default</th>\n",
       "      <th>balance</th>\n",
       "      <th>housing</th>\n",
       "      <th>loan</th>\n",
       "      <th>contact</th>\n",
       "      <th>day</th>\n",
       "      <th>month</th>\n",
       "      <th>duration</th>\n",
       "      <th>campaign</th>\n",
       "      <th>previous_days</th>\n",
       "      <th>previous_contacts</th>\n",
       "      <th>previous_outcome</th>\n",
       "      <th>target</th>\n",
       "    </tr>\n",
       "  </thead>\n",
       "  <tbody>\n",
       "    <tr>\n",
       "      <th>0</th>\n",
       "      <td>58</td>\n",
       "      <td>management</td>\n",
       "      <td>married</td>\n",
       "      <td>tertiary</td>\n",
       "      <td>no</td>\n",
       "      <td>2143</td>\n",
       "      <td>yes</td>\n",
       "      <td>no</td>\n",
       "      <td>unknown</td>\n",
       "      <td>5</td>\n",
       "      <td>may</td>\n",
       "      <td>261</td>\n",
       "      <td>1</td>\n",
       "      <td>-1</td>\n",
       "      <td>0</td>\n",
       "      <td>unknown</td>\n",
       "      <td>0</td>\n",
       "    </tr>\n",
       "    <tr>\n",
       "      <th>1</th>\n",
       "      <td>44</td>\n",
       "      <td>technician</td>\n",
       "      <td>single</td>\n",
       "      <td>secondary</td>\n",
       "      <td>no</td>\n",
       "      <td>29</td>\n",
       "      <td>yes</td>\n",
       "      <td>no</td>\n",
       "      <td>unknown</td>\n",
       "      <td>5</td>\n",
       "      <td>may</td>\n",
       "      <td>151</td>\n",
       "      <td>1</td>\n",
       "      <td>-1</td>\n",
       "      <td>0</td>\n",
       "      <td>unknown</td>\n",
       "      <td>0</td>\n",
       "    </tr>\n",
       "    <tr>\n",
       "      <th>2</th>\n",
       "      <td>33</td>\n",
       "      <td>entrepreneur</td>\n",
       "      <td>married</td>\n",
       "      <td>secondary</td>\n",
       "      <td>no</td>\n",
       "      <td>2</td>\n",
       "      <td>yes</td>\n",
       "      <td>yes</td>\n",
       "      <td>unknown</td>\n",
       "      <td>5</td>\n",
       "      <td>may</td>\n",
       "      <td>76</td>\n",
       "      <td>1</td>\n",
       "      <td>-1</td>\n",
       "      <td>0</td>\n",
       "      <td>unknown</td>\n",
       "      <td>0</td>\n",
       "    </tr>\n",
       "    <tr>\n",
       "      <th>3</th>\n",
       "      <td>47</td>\n",
       "      <td>blue-collar</td>\n",
       "      <td>married</td>\n",
       "      <td>unknown</td>\n",
       "      <td>no</td>\n",
       "      <td>1506</td>\n",
       "      <td>yes</td>\n",
       "      <td>no</td>\n",
       "      <td>unknown</td>\n",
       "      <td>5</td>\n",
       "      <td>may</td>\n",
       "      <td>92</td>\n",
       "      <td>1</td>\n",
       "      <td>-1</td>\n",
       "      <td>0</td>\n",
       "      <td>unknown</td>\n",
       "      <td>0</td>\n",
       "    </tr>\n",
       "    <tr>\n",
       "      <th>4</th>\n",
       "      <td>33</td>\n",
       "      <td>unknown</td>\n",
       "      <td>single</td>\n",
       "      <td>unknown</td>\n",
       "      <td>no</td>\n",
       "      <td>1</td>\n",
       "      <td>no</td>\n",
       "      <td>no</td>\n",
       "      <td>unknown</td>\n",
       "      <td>5</td>\n",
       "      <td>may</td>\n",
       "      <td>198</td>\n",
       "      <td>1</td>\n",
       "      <td>-1</td>\n",
       "      <td>0</td>\n",
       "      <td>unknown</td>\n",
       "      <td>0</td>\n",
       "    </tr>\n",
       "  </tbody>\n",
       "</table>\n",
       "</div>"
      ],
      "text/plain": [
       "   age           job marital_status  education default  balance housing loan  \\\n",
       "0   58    management        married   tertiary      no     2143     yes   no   \n",
       "1   44    technician         single  secondary      no       29     yes   no   \n",
       "2   33  entrepreneur        married  secondary      no        2     yes  yes   \n",
       "3   47   blue-collar        married    unknown      no     1506     yes   no   \n",
       "4   33       unknown         single    unknown      no        1      no   no   \n",
       "\n",
       "   contact  day month  duration  campaign  previous_days  previous_contacts  \\\n",
       "0  unknown    5   may       261         1             -1                  0   \n",
       "1  unknown    5   may       151         1             -1                  0   \n",
       "2  unknown    5   may        76         1             -1                  0   \n",
       "3  unknown    5   may        92         1             -1                  0   \n",
       "4  unknown    5   may       198         1             -1                  0   \n",
       "\n",
       "  previous_outcome  target  \n",
       "0          unknown       0  \n",
       "1          unknown       0  \n",
       "2          unknown       0  \n",
       "3          unknown       0  \n",
       "4          unknown       0  "
      ]
     },
     "execution_count": 2,
     "metadata": {},
     "output_type": "execute_result"
    }
   ],
   "source": [
    "data = pd.read_csv('data.csv', \n",
    "                   header=0,\n",
    "                   names=['age', 'job', 'marital_status', 'education', \n",
    "                          'default', 'balance', 'housing', 'loan', \n",
    "                          'contact', 'day', 'month', 'duration',\n",
    "                          'campaign', 'previous_days', 'previous_contacts', 'previous_outcome',\n",
    "                          'target'],\n",
    "                   dtype={'age': 'int16',\n",
    "                          'job': 'category',\n",
    "                          'marital_status': 'category',\n",
    "                          'education': 'category',\n",
    "                          'default': 'category',\n",
    "                          'balance': 'int32',\n",
    "                          'housing': 'category',\n",
    "                          'loan': 'category',\n",
    "                          'contact': 'category',\n",
    "                          'day': 'int16',\n",
    "                          'month': 'category',\n",
    "                          'duration': 'int16',\n",
    "                          'campaign': 'int16',\n",
    "                          'previous_days': 'int16',\n",
    "                          'previous_contacts': 'int16',\n",
    "                          'previous_outcome': 'category'\n",
    "                         }\n",
    "                  )\n",
    "\n",
    "data['target'] = np.where(data['target']==1, 0, 1)\n",
    "\n",
    "data.head()"
   ]
  },
  {
   "cell_type": "markdown",
   "metadata": {},
   "source": [
    "## Preprocessing categorical columns"
   ]
  },
  {
   "cell_type": "markdown",
   "metadata": {},
   "source": [
    "In order to run typical machine learning algorithms, we need to transform the categorical columns' format form text to numbers.\n",
    "\n",
    "Here are the criteria we use to choose how to preprocess the categorical columns:\n",
    "- if there is no obvious intrinsic order and more than two possible values, we use a **One Hot Encoder**\n",
    "- if there is an obvious intrinsic order and more than two possible values, we use an **Ordinal Encoder** and enforce the order of the values\n",
    "- if there are just two possible values, we use an **Ordinal Encoder** and we don't care about the order"
   ]
  },
  {
   "cell_type": "code",
   "execution_count": 3,
   "metadata": {},
   "outputs": [],
   "source": [
    "encoders = make_column_transformer((OneHotEncoder(), ['job', 'marital_status', 'contact']),\n",
    "                                  (OrdinalEncoder(), ['default', 'housing', 'loan']),\n",
    "                                  (OrdinalEncoder([['unknown', 'primary', 'secondary', 'tertiary'], \n",
    "                                                   ['failure', 'unknown', 'other', 'success'],\n",
    "                                                   ['jan', 'feb', 'mar', 'apr', 'may', 'jun', 'jul', 'aug', 'sep', 'oct', 'nov', 'dec']]), \n",
    "                                                  ['education', 'previous_outcome', 'month']),\n",
    "                                  remainder='passthrough')\n",
    "\n",
    "data_encoded = pd.DataFrame(encoders.fit_transform(data))"
   ]
  },
  {
   "cell_type": "code",
   "execution_count": 4,
   "metadata": {},
   "outputs": [
    {
     "data": {
      "text/html": [
       "<div>\n",
       "<style scoped>\n",
       "    .dataframe tbody tr th:only-of-type {\n",
       "        vertical-align: middle;\n",
       "    }\n",
       "\n",
       "    .dataframe tbody tr th {\n",
       "        vertical-align: top;\n",
       "    }\n",
       "\n",
       "    .dataframe thead th {\n",
       "        text-align: right;\n",
       "    }\n",
       "</style>\n",
       "<table border=\"1\" class=\"dataframe\">\n",
       "  <thead>\n",
       "    <tr style=\"text-align: right;\">\n",
       "      <th></th>\n",
       "      <th>0</th>\n",
       "      <th>1</th>\n",
       "      <th>2</th>\n",
       "      <th>3</th>\n",
       "      <th>4</th>\n",
       "      <th>5</th>\n",
       "      <th>6</th>\n",
       "      <th>7</th>\n",
       "      <th>8</th>\n",
       "      <th>9</th>\n",
       "      <th>...</th>\n",
       "      <th>22</th>\n",
       "      <th>23</th>\n",
       "      <th>24</th>\n",
       "      <th>25</th>\n",
       "      <th>26</th>\n",
       "      <th>27</th>\n",
       "      <th>28</th>\n",
       "      <th>29</th>\n",
       "      <th>30</th>\n",
       "      <th>31</th>\n",
       "    </tr>\n",
       "  </thead>\n",
       "  <tbody>\n",
       "    <tr>\n",
       "      <th>0</th>\n",
       "      <td>0.0</td>\n",
       "      <td>0.0</td>\n",
       "      <td>0.0</td>\n",
       "      <td>0.0</td>\n",
       "      <td>1.0</td>\n",
       "      <td>0.0</td>\n",
       "      <td>0.0</td>\n",
       "      <td>0.0</td>\n",
       "      <td>0.0</td>\n",
       "      <td>0.0</td>\n",
       "      <td>...</td>\n",
       "      <td>1.0</td>\n",
       "      <td>4.0</td>\n",
       "      <td>58.0</td>\n",
       "      <td>2143.0</td>\n",
       "      <td>5.0</td>\n",
       "      <td>261.0</td>\n",
       "      <td>1.0</td>\n",
       "      <td>-1.0</td>\n",
       "      <td>0.0</td>\n",
       "      <td>0.0</td>\n",
       "    </tr>\n",
       "    <tr>\n",
       "      <th>1</th>\n",
       "      <td>0.0</td>\n",
       "      <td>0.0</td>\n",
       "      <td>0.0</td>\n",
       "      <td>0.0</td>\n",
       "      <td>0.0</td>\n",
       "      <td>0.0</td>\n",
       "      <td>0.0</td>\n",
       "      <td>0.0</td>\n",
       "      <td>0.0</td>\n",
       "      <td>1.0</td>\n",
       "      <td>...</td>\n",
       "      <td>1.0</td>\n",
       "      <td>4.0</td>\n",
       "      <td>44.0</td>\n",
       "      <td>29.0</td>\n",
       "      <td>5.0</td>\n",
       "      <td>151.0</td>\n",
       "      <td>1.0</td>\n",
       "      <td>-1.0</td>\n",
       "      <td>0.0</td>\n",
       "      <td>0.0</td>\n",
       "    </tr>\n",
       "    <tr>\n",
       "      <th>2</th>\n",
       "      <td>0.0</td>\n",
       "      <td>0.0</td>\n",
       "      <td>1.0</td>\n",
       "      <td>0.0</td>\n",
       "      <td>0.0</td>\n",
       "      <td>0.0</td>\n",
       "      <td>0.0</td>\n",
       "      <td>0.0</td>\n",
       "      <td>0.0</td>\n",
       "      <td>0.0</td>\n",
       "      <td>...</td>\n",
       "      <td>1.0</td>\n",
       "      <td>4.0</td>\n",
       "      <td>33.0</td>\n",
       "      <td>2.0</td>\n",
       "      <td>5.0</td>\n",
       "      <td>76.0</td>\n",
       "      <td>1.0</td>\n",
       "      <td>-1.0</td>\n",
       "      <td>0.0</td>\n",
       "      <td>0.0</td>\n",
       "    </tr>\n",
       "    <tr>\n",
       "      <th>3</th>\n",
       "      <td>0.0</td>\n",
       "      <td>1.0</td>\n",
       "      <td>0.0</td>\n",
       "      <td>0.0</td>\n",
       "      <td>0.0</td>\n",
       "      <td>0.0</td>\n",
       "      <td>0.0</td>\n",
       "      <td>0.0</td>\n",
       "      <td>0.0</td>\n",
       "      <td>0.0</td>\n",
       "      <td>...</td>\n",
       "      <td>1.0</td>\n",
       "      <td>4.0</td>\n",
       "      <td>47.0</td>\n",
       "      <td>1506.0</td>\n",
       "      <td>5.0</td>\n",
       "      <td>92.0</td>\n",
       "      <td>1.0</td>\n",
       "      <td>-1.0</td>\n",
       "      <td>0.0</td>\n",
       "      <td>0.0</td>\n",
       "    </tr>\n",
       "    <tr>\n",
       "      <th>4</th>\n",
       "      <td>0.0</td>\n",
       "      <td>0.0</td>\n",
       "      <td>0.0</td>\n",
       "      <td>0.0</td>\n",
       "      <td>0.0</td>\n",
       "      <td>0.0</td>\n",
       "      <td>0.0</td>\n",
       "      <td>0.0</td>\n",
       "      <td>0.0</td>\n",
       "      <td>0.0</td>\n",
       "      <td>...</td>\n",
       "      <td>1.0</td>\n",
       "      <td>4.0</td>\n",
       "      <td>33.0</td>\n",
       "      <td>1.0</td>\n",
       "      <td>5.0</td>\n",
       "      <td>198.0</td>\n",
       "      <td>1.0</td>\n",
       "      <td>-1.0</td>\n",
       "      <td>0.0</td>\n",
       "      <td>0.0</td>\n",
       "    </tr>\n",
       "  </tbody>\n",
       "</table>\n",
       "<p>5 rows × 32 columns</p>\n",
       "</div>"
      ],
      "text/plain": [
       "    0    1    2    3    4    5    6    7    8    9   ...   22   23    24  \\\n",
       "0  0.0  0.0  0.0  0.0  1.0  0.0  0.0  0.0  0.0  0.0  ...  1.0  4.0  58.0   \n",
       "1  0.0  0.0  0.0  0.0  0.0  0.0  0.0  0.0  0.0  1.0  ...  1.0  4.0  44.0   \n",
       "2  0.0  0.0  1.0  0.0  0.0  0.0  0.0  0.0  0.0  0.0  ...  1.0  4.0  33.0   \n",
       "3  0.0  1.0  0.0  0.0  0.0  0.0  0.0  0.0  0.0  0.0  ...  1.0  4.0  47.0   \n",
       "4  0.0  0.0  0.0  0.0  0.0  0.0  0.0  0.0  0.0  0.0  ...  1.0  4.0  33.0   \n",
       "\n",
       "       25   26     27   28   29   30   31  \n",
       "0  2143.0  5.0  261.0  1.0 -1.0  0.0  0.0  \n",
       "1    29.0  5.0  151.0  1.0 -1.0  0.0  0.0  \n",
       "2     2.0  5.0   76.0  1.0 -1.0  0.0  0.0  \n",
       "3  1506.0  5.0   92.0  1.0 -1.0  0.0  0.0  \n",
       "4     1.0  5.0  198.0  1.0 -1.0  0.0  0.0  \n",
       "\n",
       "[5 rows x 32 columns]"
      ]
     },
     "execution_count": 4,
     "metadata": {},
     "output_type": "execute_result"
    }
   ],
   "source": [
    "data_encoded.head()"
   ]
  },
  {
   "cell_type": "markdown",
   "metadata": {},
   "source": [
    "Although very complete already, the _sklearn_ module sometimes requires some manual adjustments.\n",
    "\n",
    "In this case, the output of `encoders.fit_transform` is a numpy array, and we completely lose the information on the feature names.\n",
    "\n",
    "So we write a small function to correct that:"
   ]
  },
  {
   "cell_type": "code",
   "execution_count": 5,
   "metadata": {},
   "outputs": [],
   "source": [
    "import re\n",
    "\n",
    "def _extract_feature_names_(data, transformer_tuple):\n",
    "    \n",
    "    if hasattr(transformer_tuple[1], 'get_feature_names'):\n",
    "        res = transformer_tuple[1].get_feature_names().tolist()\n",
    "        res_str = ' '.join(res)\n",
    "        for i, f in enumerate(transformer_tuple[2]):\n",
    "            res_str = re.sub(f'x{i}_', f + '_', res_str)\n",
    "        return res_str.split(' ')\n",
    "    \n",
    "    elif transformer_tuple[0]=='remainder' and transformer_tuple[1]=='passthrough':\n",
    "        return data.columns[transformer_tuple[2]].values.tolist()\n",
    "    \n",
    "    else:\n",
    "        return transformer_tuple[2]\n",
    "    \n",
    "def extract_feature_names(data, encoders):\n",
    "    return [item for transformer_tuple in encoders.transformers_ for item in _extract_feature_names_(data, transformer_tuple)]"
   ]
  },
  {
   "cell_type": "code",
   "execution_count": 6,
   "metadata": {},
   "outputs": [
    {
     "data": {
      "text/html": [
       "<div>\n",
       "<style scoped>\n",
       "    .dataframe tbody tr th:only-of-type {\n",
       "        vertical-align: middle;\n",
       "    }\n",
       "\n",
       "    .dataframe tbody tr th {\n",
       "        vertical-align: top;\n",
       "    }\n",
       "\n",
       "    .dataframe thead th {\n",
       "        text-align: right;\n",
       "    }\n",
       "</style>\n",
       "<table border=\"1\" class=\"dataframe\">\n",
       "  <thead>\n",
       "    <tr style=\"text-align: right;\">\n",
       "      <th></th>\n",
       "      <th>job_admin.</th>\n",
       "      <th>job_blue-collar</th>\n",
       "      <th>job_entrepreneur</th>\n",
       "      <th>job_housemaid</th>\n",
       "      <th>job_management</th>\n",
       "      <th>job_retired</th>\n",
       "      <th>job_self-employed</th>\n",
       "      <th>job_services</th>\n",
       "      <th>job_student</th>\n",
       "      <th>job_technician</th>\n",
       "      <th>...</th>\n",
       "      <th>previous_outcome</th>\n",
       "      <th>month</th>\n",
       "      <th>age</th>\n",
       "      <th>balance</th>\n",
       "      <th>day</th>\n",
       "      <th>duration</th>\n",
       "      <th>campaign</th>\n",
       "      <th>previous_days</th>\n",
       "      <th>previous_contacts</th>\n",
       "      <th>target</th>\n",
       "    </tr>\n",
       "  </thead>\n",
       "  <tbody>\n",
       "    <tr>\n",
       "      <th>0</th>\n",
       "      <td>0.0</td>\n",
       "      <td>0.0</td>\n",
       "      <td>0.0</td>\n",
       "      <td>0.0</td>\n",
       "      <td>1.0</td>\n",
       "      <td>0.0</td>\n",
       "      <td>0.0</td>\n",
       "      <td>0.0</td>\n",
       "      <td>0.0</td>\n",
       "      <td>0.0</td>\n",
       "      <td>...</td>\n",
       "      <td>1.0</td>\n",
       "      <td>4.0</td>\n",
       "      <td>58.0</td>\n",
       "      <td>2143.0</td>\n",
       "      <td>5.0</td>\n",
       "      <td>261.0</td>\n",
       "      <td>1.0</td>\n",
       "      <td>-1.0</td>\n",
       "      <td>0.0</td>\n",
       "      <td>0.0</td>\n",
       "    </tr>\n",
       "    <tr>\n",
       "      <th>1</th>\n",
       "      <td>0.0</td>\n",
       "      <td>0.0</td>\n",
       "      <td>0.0</td>\n",
       "      <td>0.0</td>\n",
       "      <td>0.0</td>\n",
       "      <td>0.0</td>\n",
       "      <td>0.0</td>\n",
       "      <td>0.0</td>\n",
       "      <td>0.0</td>\n",
       "      <td>1.0</td>\n",
       "      <td>...</td>\n",
       "      <td>1.0</td>\n",
       "      <td>4.0</td>\n",
       "      <td>44.0</td>\n",
       "      <td>29.0</td>\n",
       "      <td>5.0</td>\n",
       "      <td>151.0</td>\n",
       "      <td>1.0</td>\n",
       "      <td>-1.0</td>\n",
       "      <td>0.0</td>\n",
       "      <td>0.0</td>\n",
       "    </tr>\n",
       "    <tr>\n",
       "      <th>2</th>\n",
       "      <td>0.0</td>\n",
       "      <td>0.0</td>\n",
       "      <td>1.0</td>\n",
       "      <td>0.0</td>\n",
       "      <td>0.0</td>\n",
       "      <td>0.0</td>\n",
       "      <td>0.0</td>\n",
       "      <td>0.0</td>\n",
       "      <td>0.0</td>\n",
       "      <td>0.0</td>\n",
       "      <td>...</td>\n",
       "      <td>1.0</td>\n",
       "      <td>4.0</td>\n",
       "      <td>33.0</td>\n",
       "      <td>2.0</td>\n",
       "      <td>5.0</td>\n",
       "      <td>76.0</td>\n",
       "      <td>1.0</td>\n",
       "      <td>-1.0</td>\n",
       "      <td>0.0</td>\n",
       "      <td>0.0</td>\n",
       "    </tr>\n",
       "    <tr>\n",
       "      <th>3</th>\n",
       "      <td>0.0</td>\n",
       "      <td>1.0</td>\n",
       "      <td>0.0</td>\n",
       "      <td>0.0</td>\n",
       "      <td>0.0</td>\n",
       "      <td>0.0</td>\n",
       "      <td>0.0</td>\n",
       "      <td>0.0</td>\n",
       "      <td>0.0</td>\n",
       "      <td>0.0</td>\n",
       "      <td>...</td>\n",
       "      <td>1.0</td>\n",
       "      <td>4.0</td>\n",
       "      <td>47.0</td>\n",
       "      <td>1506.0</td>\n",
       "      <td>5.0</td>\n",
       "      <td>92.0</td>\n",
       "      <td>1.0</td>\n",
       "      <td>-1.0</td>\n",
       "      <td>0.0</td>\n",
       "      <td>0.0</td>\n",
       "    </tr>\n",
       "    <tr>\n",
       "      <th>4</th>\n",
       "      <td>0.0</td>\n",
       "      <td>0.0</td>\n",
       "      <td>0.0</td>\n",
       "      <td>0.0</td>\n",
       "      <td>0.0</td>\n",
       "      <td>0.0</td>\n",
       "      <td>0.0</td>\n",
       "      <td>0.0</td>\n",
       "      <td>0.0</td>\n",
       "      <td>0.0</td>\n",
       "      <td>...</td>\n",
       "      <td>1.0</td>\n",
       "      <td>4.0</td>\n",
       "      <td>33.0</td>\n",
       "      <td>1.0</td>\n",
       "      <td>5.0</td>\n",
       "      <td>198.0</td>\n",
       "      <td>1.0</td>\n",
       "      <td>-1.0</td>\n",
       "      <td>0.0</td>\n",
       "      <td>0.0</td>\n",
       "    </tr>\n",
       "  </tbody>\n",
       "</table>\n",
       "<p>5 rows × 32 columns</p>\n",
       "</div>"
      ],
      "text/plain": [
       "   job_admin.  job_blue-collar  job_entrepreneur  job_housemaid  \\\n",
       "0         0.0              0.0               0.0            0.0   \n",
       "1         0.0              0.0               0.0            0.0   \n",
       "2         0.0              0.0               1.0            0.0   \n",
       "3         0.0              1.0               0.0            0.0   \n",
       "4         0.0              0.0               0.0            0.0   \n",
       "\n",
       "   job_management  job_retired  job_self-employed  job_services  job_student  \\\n",
       "0             1.0          0.0                0.0           0.0          0.0   \n",
       "1             0.0          0.0                0.0           0.0          0.0   \n",
       "2             0.0          0.0                0.0           0.0          0.0   \n",
       "3             0.0          0.0                0.0           0.0          0.0   \n",
       "4             0.0          0.0                0.0           0.0          0.0   \n",
       "\n",
       "   job_technician  ...  previous_outcome  month   age  balance  day  duration  \\\n",
       "0             0.0  ...               1.0    4.0  58.0   2143.0  5.0     261.0   \n",
       "1             1.0  ...               1.0    4.0  44.0     29.0  5.0     151.0   \n",
       "2             0.0  ...               1.0    4.0  33.0      2.0  5.0      76.0   \n",
       "3             0.0  ...               1.0    4.0  47.0   1506.0  5.0      92.0   \n",
       "4             0.0  ...               1.0    4.0  33.0      1.0  5.0     198.0   \n",
       "\n",
       "   campaign  previous_days  previous_contacts  target  \n",
       "0       1.0           -1.0                0.0     0.0  \n",
       "1       1.0           -1.0                0.0     0.0  \n",
       "2       1.0           -1.0                0.0     0.0  \n",
       "3       1.0           -1.0                0.0     0.0  \n",
       "4       1.0           -1.0                0.0     0.0  \n",
       "\n",
       "[5 rows x 32 columns]"
      ]
     },
     "execution_count": 6,
     "metadata": {},
     "output_type": "execute_result"
    }
   ],
   "source": [
    "data_encoded.columns = extract_feature_names(data, encoders)\n",
    "data_encoded.head()"
   ]
  },
  {
   "cell_type": "markdown",
   "metadata": {},
   "source": [
    "Let's just validate that the values are as expected:"
   ]
  },
  {
   "cell_type": "code",
   "execution_count": 52,
   "metadata": {},
   "outputs": [
    {
     "data": {
      "text/plain": [
       "job_admin.                    0.0\n",
       "job_blue-collar               0.0\n",
       "job_entrepreneur              0.0\n",
       "job_housemaid                 0.0\n",
       "job_management                1.0\n",
       "job_retired                   0.0\n",
       "job_self-employed             0.0\n",
       "job_services                  0.0\n",
       "job_student                   0.0\n",
       "job_technician                0.0\n",
       "job_unemployed                0.0\n",
       "job_unknown                   0.0\n",
       "marital_status_divorced       0.0\n",
       "marital_status_married        1.0\n",
       "marital_status_single         0.0\n",
       "contact_cellular              0.0\n",
       "contact_telephone             0.0\n",
       "contact_unknown               1.0\n",
       "default                       0.0\n",
       "housing                       1.0\n",
       "loan                          0.0\n",
       "education                     3.0\n",
       "previous_outcome              1.0\n",
       "month                         4.0\n",
       "age                          58.0\n",
       "balance                    2143.0\n",
       "day                           5.0\n",
       "duration                    261.0\n",
       "campaign                      1.0\n",
       "previous_days                -1.0\n",
       "previous_contacts             0.0\n",
       "target                        0.0\n",
       "Name: 0, dtype: float64"
      ]
     },
     "execution_count": 52,
     "metadata": {},
     "output_type": "execute_result"
    }
   ],
   "source": [
    "data_encoded.iloc[0]"
   ]
  },
  {
   "cell_type": "code",
   "execution_count": 53,
   "metadata": {},
   "outputs": [
    {
     "data": {
      "text/plain": [
       "age                          58\n",
       "job                  management\n",
       "marital_status          married\n",
       "education              tertiary\n",
       "default                      no\n",
       "balance                    2143\n",
       "housing                     yes\n",
       "loan                         no\n",
       "contact                 unknown\n",
       "day                           5\n",
       "month                       may\n",
       "duration                    261\n",
       "campaign                      1\n",
       "previous_days                -1\n",
       "previous_contacts             0\n",
       "previous_outcome        unknown\n",
       "target                        0\n",
       "Name: 0, dtype: object"
      ]
     },
     "execution_count": 53,
     "metadata": {},
     "output_type": "execute_result"
    }
   ],
   "source": [
    "data.iloc[0]"
   ]
  },
  {
   "cell_type": "markdown",
   "metadata": {},
   "source": [
    "It looks good. We can now create our training and testing splits."
   ]
  },
  {
   "cell_type": "markdown",
   "metadata": {},
   "source": [
    "## Train/test split"
   ]
  },
  {
   "cell_type": "code",
   "execution_count": 7,
   "metadata": {},
   "outputs": [],
   "source": [
    "X = data_encoded[[c for c in data_encoded.columns if c != 'target']]\n",
    "y = data_encoded['target']\n",
    "\n",
    "X_train, X_test, y_train, y_test = train_test_split(X, y, test_size=0.1, random_state=123)"
   ]
  },
  {
   "cell_type": "markdown",
   "metadata": {},
   "source": [
    "### Approximate number of trees needed for a given learning rate"
   ]
  },
  {
   "cell_type": "code",
   "execution_count": 55,
   "metadata": {},
   "outputs": [
    {
     "data": {
      "text/html": [
       "<div>\n",
       "<style scoped>\n",
       "    .dataframe tbody tr th:only-of-type {\n",
       "        vertical-align: middle;\n",
       "    }\n",
       "\n",
       "    .dataframe tbody tr th {\n",
       "        vertical-align: top;\n",
       "    }\n",
       "\n",
       "    .dataframe thead th {\n",
       "        text-align: right;\n",
       "    }\n",
       "</style>\n",
       "<table border=\"1\" class=\"dataframe\">\n",
       "  <thead>\n",
       "    <tr style=\"text-align: right;\">\n",
       "      <th></th>\n",
       "      <th>train-rmse-mean</th>\n",
       "      <th>train-rmse-std</th>\n",
       "      <th>test-rmse-mean</th>\n",
       "      <th>test-rmse-std</th>\n",
       "    </tr>\n",
       "  </thead>\n",
       "  <tbody>\n",
       "    <tr>\n",
       "      <th>0</th>\n",
       "      <td>0.464483</td>\n",
       "      <td>0.000199</td>\n",
       "      <td>0.464989</td>\n",
       "      <td>0.000202</td>\n",
       "    </tr>\n",
       "    <tr>\n",
       "      <th>1</th>\n",
       "      <td>0.433480</td>\n",
       "      <td>0.000374</td>\n",
       "      <td>0.434522</td>\n",
       "      <td>0.000479</td>\n",
       "    </tr>\n",
       "    <tr>\n",
       "      <th>2</th>\n",
       "      <td>0.406577</td>\n",
       "      <td>0.000474</td>\n",
       "      <td>0.408132</td>\n",
       "      <td>0.000775</td>\n",
       "    </tr>\n",
       "    <tr>\n",
       "      <th>3</th>\n",
       "      <td>0.383305</td>\n",
       "      <td>0.000622</td>\n",
       "      <td>0.385434</td>\n",
       "      <td>0.000959</td>\n",
       "    </tr>\n",
       "    <tr>\n",
       "      <th>4</th>\n",
       "      <td>0.363167</td>\n",
       "      <td>0.000653</td>\n",
       "      <td>0.365876</td>\n",
       "      <td>0.001269</td>\n",
       "    </tr>\n",
       "    <tr>\n",
       "      <th>...</th>\n",
       "      <td>...</td>\n",
       "      <td>...</td>\n",
       "      <td>...</td>\n",
       "      <td>...</td>\n",
       "    </tr>\n",
       "    <tr>\n",
       "      <th>107</th>\n",
       "      <td>0.215924</td>\n",
       "      <td>0.001593</td>\n",
       "      <td>0.251621</td>\n",
       "      <td>0.006220</td>\n",
       "    </tr>\n",
       "    <tr>\n",
       "      <th>108</th>\n",
       "      <td>0.215783</td>\n",
       "      <td>0.001647</td>\n",
       "      <td>0.251636</td>\n",
       "      <td>0.006204</td>\n",
       "    </tr>\n",
       "    <tr>\n",
       "      <th>109</th>\n",
       "      <td>0.215551</td>\n",
       "      <td>0.001588</td>\n",
       "      <td>0.251596</td>\n",
       "      <td>0.006298</td>\n",
       "    </tr>\n",
       "    <tr>\n",
       "      <th>110</th>\n",
       "      <td>0.215397</td>\n",
       "      <td>0.001652</td>\n",
       "      <td>0.251577</td>\n",
       "      <td>0.006256</td>\n",
       "    </tr>\n",
       "    <tr>\n",
       "      <th>111</th>\n",
       "      <td>0.215168</td>\n",
       "      <td>0.001759</td>\n",
       "      <td>0.251557</td>\n",
       "      <td>0.006240</td>\n",
       "    </tr>\n",
       "  </tbody>\n",
       "</table>\n",
       "<p>112 rows × 4 columns</p>\n",
       "</div>"
      ],
      "text/plain": [
       "     train-rmse-mean  train-rmse-std  test-rmse-mean  test-rmse-std\n",
       "0           0.464483        0.000199        0.464989       0.000202\n",
       "1           0.433480        0.000374        0.434522       0.000479\n",
       "2           0.406577        0.000474        0.408132       0.000775\n",
       "3           0.383305        0.000622        0.385434       0.000959\n",
       "4           0.363167        0.000653        0.365876       0.001269\n",
       "..               ...             ...             ...            ...\n",
       "107         0.215924        0.001593        0.251621       0.006220\n",
       "108         0.215783        0.001647        0.251636       0.006204\n",
       "109         0.215551        0.001588        0.251596       0.006298\n",
       "110         0.215397        0.001652        0.251577       0.006256\n",
       "111         0.215168        0.001759        0.251557       0.006240\n",
       "\n",
       "[112 rows x 4 columns]"
      ]
     },
     "execution_count": 55,
     "metadata": {},
     "output_type": "execute_result"
    }
   ],
   "source": [
    "dtrain = DMatrix(X_train, label=y_train)\n",
    "cv(params={'learning_rate': 0.1, 'max_depth': 6}, dtrain=dtrain, num_boost_round=250, nfold=5, early_stopping_rounds=20)"
   ]
  },
  {
   "cell_type": "code",
   "execution_count": 8,
   "metadata": {},
   "outputs": [],
   "source": [
    "folds = KFold(5, random_state=5, shuffle=True)"
   ]
  },
  {
   "cell_type": "code",
   "execution_count": 58,
   "metadata": {},
   "outputs": [
    {
     "name": "stdout",
     "output_type": "stream",
     "text": [
      "Fitting 5 folds for each of 20 candidates, totalling 100 fits\n"
     ]
    },
    {
     "name": "stderr",
     "output_type": "stream",
     "text": [
      "[Parallel(n_jobs=-1)]: Using backend LokyBackend with 8 concurrent workers.\n",
      "[Parallel(n_jobs=-1)]: Done  34 tasks      | elapsed:  2.0min\n",
      "[Parallel(n_jobs=-1)]: Done 100 out of 100 | elapsed:  5.7min finished\n"
     ]
    },
    {
     "name": "stdout",
     "output_type": "stream",
     "text": [
      "Elapsed: 348.5636031627655 sec.\n"
     ]
    }
   ],
   "source": [
    "xgb_model = XGBClassifier(n_estimators=112, learning_rate=0.1)\n",
    "\n",
    "param_grid = {\n",
    "    'max_depth': [4, 5, 6, 7, 5],\n",
    "    'subsample': [0.5, 0.75],\n",
    "    'colsample_bytree': [0.5, 0.75]\n",
    "}\n",
    "\n",
    "grid_search = GridSearchCV(xgb_model, param_grid, scoring='roc_auc', cv=folds, verbose=1, n_jobs=-1)\n",
    "\n",
    "start_time = time()\n",
    "grid_search.fit(X_train, y_train)\n",
    "end_time = time()\n",
    "\n",
    "print('Elapsed:', end_time - start_time, 'sec.')"
   ]
  },
  {
   "cell_type": "code",
   "execution_count": null,
   "metadata": {},
   "outputs": [],
   "source": [
    "grid_search.cv_results_"
   ]
  },
  {
   "cell_type": "code",
   "execution_count": 60,
   "metadata": {},
   "outputs": [
    {
     "name": "stdout",
     "output_type": "stream",
     "text": [
      "Best score: 0.9341800908705963\n",
      "\n",
      "Best params: {'colsample_bytree': 0.5, 'max_depth': 7, 'subsample': 0.75}\n"
     ]
    }
   ],
   "source": [
    "best_param_idx = int(np.argwhere(grid_search.cv_results_['rank_test_score']==1))\n",
    "best_params = grid_search.cv_results_['params'][best_param_idx]\n",
    "best_score = grid_search.cv_results_['mean_test_score'][best_param_idx]\n",
    "\n",
    "print('Best score:', best_score)\n",
    "print()\n",
    "print('Best params:', best_params)"
   ]
  },
  {
   "cell_type": "markdown",
   "metadata": {},
   "source": [
    "### Test AUC"
   ]
  },
  {
   "cell_type": "code",
   "execution_count": null,
   "metadata": {},
   "outputs": [],
   "source": [
    "y_preds = grid_search.predict_proba(X_test)[:, 1]"
   ]
  },
  {
   "cell_type": "code",
   "execution_count": null,
   "metadata": {},
   "outputs": [],
   "source": [
    "roc_auc_score(y_test, y_preds)"
   ]
  },
  {
   "cell_type": "code",
   "execution_count": null,
   "metadata": {},
   "outputs": [],
   "source": [
    "plot_roc_curve(grid_search, X_test, y_test)"
   ]
  },
  {
   "cell_type": "code",
   "execution_count": null,
   "metadata": {},
   "outputs": [],
   "source": [
    "plot_precision_recall_curve(grid_search, X_test, y_test)"
   ]
  },
  {
   "cell_type": "markdown",
   "metadata": {},
   "source": [
    "# Random search"
   ]
  },
  {
   "cell_type": "code",
   "execution_count": 9,
   "metadata": {},
   "outputs": [],
   "source": [
    "sampler = ParameterSampler({'gamma': uniform(0, 5),\n",
    "                            'max_depth': list(range(4, 10)),\n",
    "                            'min_child_weight': uniform(0, 10),\n",
    "                            'subsample': uniform(0.5, 0.5),\n",
    "                            'colsample_bytree': uniform(0.5, 0.5),\n",
    "                            'reg_lambda': [0, 0.25, 0.5, 0.75, 1],\n",
    "                            'reg_alpha': [0, 0.25, 0.5, 0.75, 1]},\n",
    "                          n_iter = 100,\n",
    "                          random_state=123)"
   ]
  },
  {
   "cell_type": "code",
   "execution_count": 10,
   "metadata": {},
   "outputs": [
    {
     "name": "stdout",
     "output_type": "stream",
     "text": [
      "100\n"
     ]
    },
    {
     "data": {
      "text/plain": [
       "[{'colsample_bytree': 0.8482345927989308,\n",
       "  'gamma': 1.4306966747518972,\n",
       "  'max_depth': 8,\n",
       "  'min_child_weight': 6.908848550268617,\n",
       "  'reg_alpha': 0.25,\n",
       "  'reg_lambda': 0.75,\n",
       "  'subsample': 0.7455594667162986},\n",
       " {'colsample_bytree': 0.8900138809560396,\n",
       "  'gamma': 2.0546218635450946,\n",
       "  'max_depth': 5,\n",
       "  'min_child_weight': 4.809319014843609,\n",
       "  'reg_alpha': 0.25,\n",
       "  'reg_lambda': 0,\n",
       "  'subsample': 0.6715890080754348}]"
      ]
     },
     "execution_count": 10,
     "metadata": {},
     "output_type": "execute_result"
    }
   ],
   "source": [
    "param_list = list(sampler)\n",
    "\n",
    "print(len(param_list))\n",
    "\n",
    "param_list[0:2]"
   ]
  },
  {
   "cell_type": "code",
   "execution_count": 11,
   "metadata": {},
   "outputs": [],
   "source": [
    "def fit_model(params, X, y, cv):\n",
    "    model = XGBClassifier(n_estimators=112, learning_rate=0.1, **params)\n",
    "    return cross_validate(model, X, y, scoring='roc_auc', cv=cv, n_jobs=-1)"
   ]
  },
  {
   "cell_type": "markdown",
   "metadata": {},
   "source": [
    "## Local mode"
   ]
  },
  {
   "cell_type": "code",
   "execution_count": 37,
   "metadata": {},
   "outputs": [],
   "source": [
    "start_time = time()\n",
    "\n",
    "res_local =[fit_model(param, X=X_train, y=y_train, cv=folds) for param in param_list]\n",
    "\n",
    "end_time = time()"
   ]
  },
  {
   "cell_type": "code",
   "execution_count": 39,
   "metadata": {},
   "outputs": [
    {
     "data": {
      "text/plain": [
       "3004.3847873210907"
      ]
     },
     "execution_count": 39,
     "metadata": {},
     "output_type": "execute_result"
    }
   ],
   "source": [
    "end_time - start_time"
   ]
  },
  {
   "cell_type": "code",
   "execution_count": 61,
   "metadata": {},
   "outputs": [
    {
     "data": {
      "text/plain": [
       "[{'fit_time': array([38.19000626, 37.93771839, 38.75668907, 38.13801646, 38.32303309]),\n",
       "  'score_time': array([0.21663976, 0.23832846, 0.24399114, 0.23998833, 0.23300052]),\n",
       "  'test_score': array([0.93533667, 0.93073737, 0.93892571, 0.93589523, 0.93177839])},\n",
       " {'fit_time': array([28.62689805, 28.67320061, 27.97429037, 28.5950017 , 27.97248459]),\n",
       "  'score_time': array([0.1549468 , 0.12305331, 0.15894413, 0.16352749, 0.15199971]),\n",
       "  'test_score': array([0.93259728, 0.9290668 , 0.93632107, 0.93382456, 0.92991526])}]"
      ]
     },
     "execution_count": 61,
     "metadata": {},
     "output_type": "execute_result"
    }
   ],
   "source": [
    "res_local[0:2]"
   ]
  },
  {
   "cell_type": "code",
   "execution_count": 64,
   "metadata": {},
   "outputs": [
    {
     "name": "stdout",
     "output_type": "stream",
     "text": [
      "Best score found: 0.9361782651923466\n",
      "Best params found: {'colsample_bytree': 0.8482345927989308, 'gamma': 1.4306966747518972, 'max_depth': 8, 'min_child_weight': 6.908848550268617, 'reg_alpha': 0.25, 'reg_lambda': 0.75, 'subsample': 0.7455594667162986}\n"
     ]
    }
   ],
   "source": [
    "score_res = [r['test_score'].mean() for r in res_local]\n",
    "\n",
    "best_score = max(score_res)\n",
    "\n",
    "best_score_idx = np.argmax(best_score)\n",
    "\n",
    "best_params = param_list[best_score_idx]\n",
    "\n",
    "print('Best score found:', best_score)\n",
    "print('Best params found:', best_params)"
   ]
  },
  {
   "cell_type": "markdown",
   "metadata": {},
   "source": [
    "## Distributed mode"
   ]
  },
  {
   "cell_type": "code",
   "execution_count": null,
   "metadata": {},
   "outputs": [],
   "source": [
    "client = Client('ec2-3-84-88-28.compute-1.amazonaws.com:40393')"
   ]
  },
  {
   "cell_type": "code",
   "execution_count": 27,
   "metadata": {},
   "outputs": [],
   "source": [
    "start_time = time()\n",
    "\n",
    "futures = client.map(fit_model, param_list, X=X_train, y=y_train, cv=folds)\n",
    "res = client.gather(futures)\n",
    "\n",
    "end_time = time()"
   ]
  },
  {
   "cell_type": "code",
   "execution_count": 28,
   "metadata": {},
   "outputs": [
    {
     "data": {
      "text/plain": [
       "681.1898059844971"
      ]
     },
     "execution_count": 28,
     "metadata": {},
     "output_type": "execute_result"
    },
    {
     "name": "stderr",
     "output_type": "stream",
     "text": [
      "distributed.client - ERROR - Failed to reconnect to scheduler after 10.00 seconds, closing client\n",
      "_GatheringFuture exception was never retrieved\n",
      "future: <_GatheringFuture finished exception=CancelledError()>\n",
      "concurrent.futures._base.CancelledError\n"
     ]
    }
   ],
   "source": [
    "(end_time - start_time)"
   ]
  },
  {
   "cell_type": "markdown",
   "metadata": {},
   "source": [
    "# Adding MLflow to the mix"
   ]
  },
  {
   "cell_type": "markdown",
   "metadata": {},
   "source": [
    "After setting up MLflow's tracking server on EC2, make sure you can connect to it:"
   ]
  },
  {
   "cell_type": "code",
   "execution_count": 15,
   "metadata": {},
   "outputs": [
    {
     "name": "stdout",
     "output_type": "stream",
     "text": [
      "INFO: 'BankMarketing' does not exist. Creating a new experiment\n"
     ]
    }
   ],
   "source": [
    "os.environ['MLFLOW_TRACKING_USERNAME'] = 'mlflow'\n",
    "os.environ['MLFLOW_TRACKING_PASSWORD'] = 'mlflow'\n",
    "\n",
    "# you can set your tracking server URI programmatically:\n",
    "mlflow.set_tracking_uri('http://ec2-52-207-217-8.compute-1.amazonaws.com')\n",
    "\n",
    "mlflow.set_experiment(\"BankMarketing\")"
   ]
  },
  {
   "cell_type": "markdown",
   "metadata": {},
   "source": [
    "Our updated `fit_model` function:"
   ]
  },
  {
   "cell_type": "code",
   "execution_count": 20,
   "metadata": {},
   "outputs": [],
   "source": [
    "def fit_model_mlflow(params, X, y, cv):\n",
    "    with mlflow.start_run():\n",
    "        for param, value in params.items():\n",
    "            mlflow.log_param(param, value)\n",
    "            \n",
    "        model = XGBClassifier(n_estimators=112, learning_rate=0.1, **params)\n",
    "        \n",
    "        result = cross_validate(model, X, y, scoring='roc_auc', cv=cv, n_jobs=-1)\n",
    "        \n",
    "        avg_auc = result['test_score'].mean()\n",
    "        mlflow.log_metric('auc', avg_auc)\n",
    "        \n",
    "        return result"
   ]
  },
  {
   "cell_type": "markdown",
   "metadata": {},
   "source": [
    "We need to tell the worker nodes about MLflow:"
   ]
  },
  {
   "cell_type": "code",
   "execution_count": 23,
   "metadata": {},
   "outputs": [],
   "source": [
    "def init_mlflow():\n",
    "    os.environ['MLFLOW_TRACKING_USERNAME'] = 'mlflow'\n",
    "    os.environ['MLFLOW_TRACKING_PASSWORD'] = 'mlflow'\n",
    "\n",
    "    # you can set your tracking server URI programmatically:\n",
    "    mlflow.set_tracking_uri('http://ec2-52-207-217-8.compute-1.amazonaws.com')\n",
    "\n",
    "    mlflow.set_experiment(\"BankMarketing\")"
   ]
  },
  {
   "cell_type": "code",
   "execution_count": 24,
   "metadata": {},
   "outputs": [
    {
     "data": {
      "text/plain": [
       "{'tcp://172.31.17.164:42747': None,\n",
       " 'tcp://172.31.19.201:39583': None,\n",
       " 'tcp://172.31.19.235:39771': None,\n",
       " 'tcp://172.31.19.235:41867': None}"
      ]
     },
     "execution_count": 24,
     "metadata": {},
     "output_type": "execute_result"
    }
   ],
   "source": [
    "client = Client('ec2-52-90-247-177.compute-1.amazonaws.com:32957')\n",
    "client.run(init_mlflow)"
   ]
  },
  {
   "cell_type": "markdown",
   "metadata": {},
   "source": [
    "## It's go time !"
   ]
  },
  {
   "cell_type": "code",
   "execution_count": 25,
   "metadata": {},
   "outputs": [],
   "source": [
    "start_time = time()\n",
    "\n",
    "futures = client.map(fit_model_mlflow, param_list, X=X_train, y=y_train, cv=folds)\n",
    "res = client.gather(futures)\n",
    "\n",
    "end_time = time()"
   ]
  }
 ],
 "metadata": {
  "kernelspec": {
   "display_name": "Python 3",
   "language": "python",
   "name": "python3"
  },
  "language_info": {
   "codemirror_mode": {
    "name": "ipython",
    "version": 3
   },
   "file_extension": ".py",
   "mimetype": "text/x-python",
   "name": "python",
   "nbconvert_exporter": "python",
   "pygments_lexer": "ipython3",
   "version": "3.7.6"
  }
 },
 "nbformat": 4,
 "nbformat_minor": 4
}
