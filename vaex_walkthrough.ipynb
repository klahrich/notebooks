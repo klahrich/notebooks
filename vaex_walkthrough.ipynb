{
 "cells": [
  {
   "cell_type": "code",
   "execution_count": 3,
   "metadata": {},
   "outputs": [
    {
     "data": {
      "text/html": [
       "<table>\n",
       "<thead>\n",
       "<tr><th>#                                     </th><th>tripduration  </th><th>starttime                    </th><th>stoptime                     </th><th>start_station_id  </th><th>start_station_name         </th><th>start_station_latitude  </th><th>start_station_longitude  </th><th>end_station_id  </th><th>end_station_name                 </th><th>end_station_latitude  </th><th>end_station_longitude  </th><th>bikeid  </th><th>usertype  </th><th>birth_year  </th><th>gender  </th><th>customer_plan  </th></tr>\n",
       "</thead>\n",
       "<tbody>\n",
       "<tr><td><i style='opacity: 0.6'>0</i>         </td><td>371           </td><td>2016-08-29 14:45:02.000000000</td><td>2016-08-29 14:51:14.000000000</td><td>516               </td><td>E 47 St & 1 Ave            </td><td>40.75206862             </td><td>-73.96784384             </td><td>519             </td><td>Pershing Square North            </td><td>40.751872999999996    </td><td>-73.97770600000001     </td><td>19100   </td><td>Subscriber</td><td>1947        </td><td>male    </td><td>nan            </td></tr>\n",
       "<tr><td><i style='opacity: 0.6'>1</i>         </td><td>1330          </td><td>2016-02-07 16:02:42.000000000</td><td>2016-02-07 16:24:52.000000000</td><td>153               </td><td>E 40 St & 5 Ave            </td><td>40.752062306999996      </td><td>-73.9816324043           </td><td>405             </td><td>Washington St & Gansevoort St    </td><td>40.739323             </td><td>-74.008119             </td><td>19039   </td><td>Subscriber</td><td>1950        </td><td>male    </td><td>nan            </td></tr>\n",
       "<tr><td><i style='opacity: 0.6'>2</i>         </td><td>830           </td><td>2017-12-21 12:24:04.000000000</td><td>2017-12-21 12:37:55.000000000</td><td>3168              </td><td>Central Park West & W 85 St</td><td>40.78472675             </td><td>-73.96961715             </td><td>281             </td><td>Grand Army Plaza & Central Park S</td><td>40.764397100000004    </td><td>-73.97371465           </td><td>17434   </td><td>Subscriber</td><td>1947        </td><td>male    </td><td>nan            </td></tr>\n",
       "<tr><td><i style='opacity: 0.6'>3</i>         </td><td>555           </td><td>2017-05-30 11:04:11.000000000</td><td>2017-05-30 11:13:26.000000000</td><td>3260              </td><td>Mercer St & Bleecker St    </td><td>40.727063633483056      </td><td>-73.99662137031554       </td><td>358             </td><td>Christopher St & Greenwich St    </td><td>40.73291553           </td><td>-74.00711384           </td><td>28401   </td><td>Subscriber</td><td>1996        </td><td>male    </td><td>nan            </td></tr>\n",
       "<tr><td><i style='opacity: 0.6'>4</i>         </td><td>328           </td><td>2016-09-26 12:53:07.000000000</td><td>2016-09-26 12:58:35.000000000</td><td>317               </td><td>E 6 St & Avenue B          </td><td>40.72453734             </td><td>-73.98185424             </td><td>3263            </td><td>Cooper Square & E 7 St           </td><td>40.72923649910006     </td><td>-73.9908680319786      </td><td>22740   </td><td>Subscriber</td><td>1951        </td><td>male    </td><td>nan            </td></tr>\n",
       "<tr><td>...                                   </td><td>...           </td><td>...                          </td><td>...                          </td><td>...               </td><td>...                        </td><td>...                     </td><td>...                      </td><td>...             </td><td>...                              </td><td>...                   </td><td>...                    </td><td>...     </td><td>...       </td><td>...         </td><td>...     </td><td>...            </td></tr>\n",
       "<tr><td><i style='opacity: 0.6'>58,937,710</i></td><td>1179          </td><td>2013-09-25 16:25:51.000000000</td><td>2013-09-25 16:45:30.000000000</td><td>523               </td><td>W 38 St & 8 Ave            </td><td>40.75466591             </td><td>-73.99138152             </td><td>284             </td><td>Greenwich Ave & 8 Ave            </td><td>40.7390169121         </td><td>-74.0026376103         </td><td>20175   </td><td>Subscriber</td><td>1978        </td><td>female  </td><td>nan            </td></tr>\n",
       "<tr><td><i style='opacity: 0.6'>58,937,711</i></td><td>414           </td><td>2014-05-29 12:23:19.000000000</td><td>2014-05-29 12:30:13.000000000</td><td>523               </td><td>W 38 St & 8 Ave            </td><td>40.75466591             </td><td>-73.99138152             </td><td>486             </td><td>Broadway & W 29 St               </td><td>40.7462009            </td><td>-73.98855723           </td><td>15154   </td><td>Subscriber</td><td>1978        </td><td>male    </td><td>nan            </td></tr>\n",
       "<tr><td><i style='opacity: 0.6'>58,937,712</i></td><td>402           </td><td>2016-03-24 15:57:03.000000000</td><td>2016-03-24 16:03:46.000000000</td><td>523               </td><td>W 38 St & 8 Ave            </td><td>40.75466591             </td><td>-73.99138152             </td><td>167             </td><td>E 39 St & 3 Ave                  </td><td>40.7489006            </td><td>-73.97604882           </td><td>17254   </td><td>Subscriber</td><td>1978        </td><td>male    </td><td>nan            </td></tr>\n",
       "<tr><td><i style='opacity: 0.6'>58,937,713</i></td><td>812           </td><td>2017-09-11 14:36:20.000000000</td><td>2017-09-11 14:49:53.000000000</td><td>523               </td><td>W 38 St & 8 Ave            </td><td>40.75466591             </td><td>-73.99138152             </td><td>3224            </td><td>W 13 St & Hudson St              </td><td>40.73997354103409     </td><td>-74.00513872504234     </td><td>14715   </td><td>Subscriber</td><td>1978        </td><td>male    </td><td>nan            </td></tr>\n",
       "<tr><td><i style='opacity: 0.6'>58,937,714</i></td><td>1674          </td><td>2015-10-15 16:55:43.000000000</td><td>2015-10-15 17:23:38.000000000</td><td>523               </td><td>W 38 St & 8 Ave            </td><td>40.75466591             </td><td>-73.99138152             </td><td>2008            </td><td>Little West St & 1 Pl            </td><td>40.70569254           </td><td>-74.01677685           </td><td>24035   </td><td>Subscriber</td><td>1978        </td><td>male    </td><td>nan            </td></tr>\n",
       "</tbody>\n",
       "</table>"
      ],
      "text/plain": [
       "#           tripduration    starttime                      stoptime                       start_station_id    start_station_name           start_station_latitude    start_station_longitude    end_station_id    end_station_name                   end_station_latitude    end_station_longitude    bikeid    usertype    birth_year    gender    customer_plan\n",
       "0           371             2016-08-29 14:45:02.000000000  2016-08-29 14:51:14.000000000  516                 E 47 St & 1 Ave              40.75206862               -73.96784384               519               Pershing Square North              40.751872999999996      -73.97770600000001       19100     Subscriber  1947          male      nan\n",
       "1           1330            2016-02-07 16:02:42.000000000  2016-02-07 16:24:52.000000000  153                 E 40 St & 5 Ave              40.752062306999996        -73.9816324043             405               Washington St & Gansevoort St      40.739323               -74.008119               19039     Subscriber  1950          male      nan\n",
       "2           830             2017-12-21 12:24:04.000000000  2017-12-21 12:37:55.000000000  3168                Central Park West & W 85 St  40.78472675               -73.96961715               281               Grand Army Plaza & Central Park S  40.764397100000004      -73.97371465             17434     Subscriber  1947          male      nan\n",
       "3           555             2017-05-30 11:04:11.000000000  2017-05-30 11:13:26.000000000  3260                Mercer St & Bleecker St      40.727063633483056        -73.99662137031554         358               Christopher St & Greenwich St      40.73291553             -74.00711384             28401     Subscriber  1996          male      nan\n",
       "4           328             2016-09-26 12:53:07.000000000  2016-09-26 12:58:35.000000000  317                 E 6 St & Avenue B            40.72453734               -73.98185424               3263              Cooper Square & E 7 St             40.72923649910006       -73.9908680319786        22740     Subscriber  1951          male      nan\n",
       "...         ...             ...                            ...                            ...                 ...                          ...                       ...                        ...               ...                                ...                     ...                      ...       ...         ...           ...       ...\n",
       "58,937,710  1179            2013-09-25 16:25:51.000000000  2013-09-25 16:45:30.000000000  523                 W 38 St & 8 Ave              40.75466591               -73.99138152               284               Greenwich Ave & 8 Ave              40.7390169121           -74.0026376103           20175     Subscriber  1978          female    nan\n",
       "58,937,711  414             2014-05-29 12:23:19.000000000  2014-05-29 12:30:13.000000000  523                 W 38 St & 8 Ave              40.75466591               -73.99138152               486               Broadway & W 29 St                 40.7462009              -73.98855723             15154     Subscriber  1978          male      nan\n",
       "58,937,712  402             2016-03-24 15:57:03.000000000  2016-03-24 16:03:46.000000000  523                 W 38 St & 8 Ave              40.75466591               -73.99138152               167               E 39 St & 3 Ave                    40.7489006              -73.97604882             17254     Subscriber  1978          male      nan\n",
       "58,937,713  812             2017-09-11 14:36:20.000000000  2017-09-11 14:49:53.000000000  523                 W 38 St & 8 Ave              40.75466591               -73.99138152               3224              W 13 St & Hudson St                40.73997354103409       -74.00513872504234       14715     Subscriber  1978          male      nan\n",
       "58,937,714  1674            2015-10-15 16:55:43.000000000  2015-10-15 17:23:38.000000000  523                 W 38 St & 8 Ave              40.75466591               -73.99138152               2008              Little West St & 1 Pl              40.70569254             -74.01677685             24035     Subscriber  1978          male      nan"
      ]
     },
     "execution_count": 3,
     "metadata": {},
     "output_type": "execute_result"
    }
   ],
   "source": [
    "import vaex\n",
    "\n",
    "df = vaex.open('citibike_trips.hdf5')\n",
    "\n",
    "df"
   ]
  },
  {
   "cell_type": "code",
   "execution_count": 6,
   "metadata": {},
   "outputs": [
    {
     "data": {
      "text/plain": [
       "tripduration                        int32\n",
       "starttime                  datetime64[ns]\n",
       "stoptime                   datetime64[ns]\n",
       "start_station_id                    int16\n",
       "start_station_name          <class 'str'>\n",
       "start_station_latitude            float64\n",
       "start_station_longitude           float64\n",
       "end_station_id                      int16\n",
       "end_station_name            <class 'str'>\n",
       "end_station_latitude              float64\n",
       "end_station_longitude             float64\n",
       "bikeid                              int32\n",
       "usertype                    <class 'str'>\n",
       "birth_year                          int16\n",
       "gender                      <class 'str'>\n",
       "customer_plan                     float64\n",
       "dtype: object"
      ]
     },
     "execution_count": 6,
     "metadata": {},
     "output_type": "execute_result"
    }
   ],
   "source": [
    "df.dtypes"
   ]
  },
  {
   "cell_type": "code",
   "execution_count": 10,
   "metadata": {},
   "outputs": [],
   "source": [
    "df['trip_duration'] = df['stoptime'] - df['starttime']"
   ]
  },
  {
   "cell_type": "code",
   "execution_count": 11,
   "metadata": {},
   "outputs": [
    {
     "data": {
      "text/plain": [
       "Expression = trip_duration\n",
       "Length: 58,937,715 dtype: timedelta64[ns] (column)\n",
       "--------------------------------------------------\n",
       "       0  0 days +0:06:12\n",
       "       1  0 days +0:22:10\n",
       "       2  0 days +0:13:51\n",
       "       3  0 days +0:09:15\n",
       "       4  0 days +0:05:28\n",
       "           ...           \n",
       "58937710  0 days +0:19:39\n",
       "58937711  0 days +0:06:54\n",
       "58937712  0 days +0:06:43\n",
       "58937713  0 days +0:13:33\n",
       "58937714  0 days +0:27:55"
      ]
     },
     "execution_count": 11,
     "metadata": {},
     "output_type": "execute_result"
    }
   ],
   "source": [
    "df['trip_duration']"
   ]
  },
  {
   "cell_type": "code",
   "execution_count": 12,
   "metadata": {},
   "outputs": [],
   "source": [
    "import numpy as np\n",
    "\n",
    "delta_latitude = df['end_station_latitude'] - df['start_station_latitude']\n",
    "delta_longitude = df['end_station_longitude'] - df['start_station_longitude']\n",
    "df['naive_distance'] = np.sqrt(delta_latitude**2 + delta_longitude**2)"
   ]
  },
  {
   "cell_type": "code",
   "execution_count": 13,
   "metadata": {},
   "outputs": [
    {
     "data": {
      "text/plain": [
       "Expression = naive_distance\n",
       "Length: 58,937,715 dtype: float64 (column)\n",
       "------------------------------------------\n",
       "       0   0.0098641\n",
       "       1    0.029391\n",
       "       2   0.0207385\n",
       "       3    0.012014\n",
       "       4   0.0101652\n",
       "        ...         \n",
       "58937710   0.0192767\n",
       "58937711  0.00892373\n",
       "58937712   0.0163808\n",
       "58937713   0.0201278\n",
       "58937714   0.0551662"
      ]
     },
     "execution_count": 13,
     "metadata": {},
     "output_type": "execute_result"
    }
   ],
   "source": [
    "df['naive_distance']"
   ]
  },
  {
   "cell_type": "code",
   "execution_count": 28,
   "metadata": {},
   "outputs": [],
   "source": [
    "df['trip_duration_seconds'] = df['trip_duration'] / np.timedelta64(1, 's')"
   ]
  },
  {
   "cell_type": "code",
   "execution_count": 36,
   "metadata": {},
   "outputs": [
    {
     "data": {
      "text/plain": [
       "Expression = trip_duration_seconds\n",
       "Length: 58,937,715 dtype: float64 (column)\n",
       "------------------------------------------\n",
       "       0   372\n",
       "       1  1330\n",
       "       2   831\n",
       "       3   555\n",
       "       4   328\n",
       "     ...      \n",
       "58937710  1179\n",
       "58937711   414\n",
       "58937712   403\n",
       "58937713   813\n",
       "58937714  1675"
      ]
     },
     "execution_count": 36,
     "metadata": {},
     "output_type": "execute_result"
    }
   ],
   "source": [
    "df['trip_duration_seconds']"
   ]
  },
  {
   "cell_type": "code",
   "execution_count": 34,
   "metadata": {},
   "outputs": [],
   "source": [
    "short_trips_df = df[df.trip_duration_seconds < 15*60]"
   ]
  },
  {
   "cell_type": "code",
   "execution_count": 37,
   "metadata": {},
   "outputs": [],
   "source": [
    "df.select(df.trip_duration_seconds < 15*60)"
   ]
  },
  {
   "cell_type": "code",
   "execution_count": 35,
   "metadata": {},
   "outputs": [
    {
     "name": "stderr",
     "output_type": "stream",
     "text": [
      "<string>:1: RuntimeWarning: invalid value encountered in less\n"
     ]
    },
    {
     "data": {
      "text/plain": [
       "array(477.87387026)"
      ]
     },
     "execution_count": 35,
     "metadata": {},
     "output_type": "execute_result"
    }
   ],
   "source": [
    "short_trips_df.mean(short_trips_df.trip_duration_seconds)"
   ]
  },
  {
   "cell_type": "code",
   "execution_count": 38,
   "metadata": {},
   "outputs": [
    {
     "data": {
      "text/plain": [
       "array(477.87387026)"
      ]
     },
     "execution_count": 38,
     "metadata": {},
     "output_type": "execute_result"
    }
   ],
   "source": [
    "df.mean(df.trip_duration_seconds, selection=True)"
   ]
  },
  {
   "cell_type": "code",
   "execution_count": 40,
   "metadata": {},
   "outputs": [],
   "source": [
    "df['age'] = 2020 - df['birth_year']"
   ]
  },
  {
   "cell_type": "code",
   "execution_count": 42,
   "metadata": {},
   "outputs": [],
   "source": [
    "trip_counts = df.count(binby=df.age, limits=[0, 70], shape=7)\n",
    "\n",
    "trip_durations = df.mean(df.trip_duration_seconds, binby=df.age, limits=[0, 70], shape=7)"
   ]
  },
  {
   "cell_type": "code",
   "execution_count": 45,
   "metadata": {},
   "outputs": [],
   "source": [
    "trip_counts_by_start_station = df.groupby(by='start_station_name', agg={'N': vaex.agg.count('tripduration')})"
   ]
  },
  {
   "cell_type": "code",
   "execution_count": 46,
   "metadata": {},
   "outputs": [
    {
     "data": {
      "text/plain": [
       "vaex.dataframe.DataFrameArrays"
      ]
     },
     "execution_count": 46,
     "metadata": {},
     "output_type": "execute_result"
    }
   ],
   "source": [
    "type(trip_counts_by_start_station)"
   ]
  },
  {
   "cell_type": "code",
   "execution_count": 47,
   "metadata": {},
   "outputs": [],
   "source": [
    "df1 = df.head(100)"
   ]
  },
  {
   "cell_type": "code",
   "execution_count": 48,
   "metadata": {},
   "outputs": [],
   "source": [
    "df2 = df.head(50)"
   ]
  },
  {
   "cell_type": "code",
   "execution_count": 68,
   "metadata": {},
   "outputs": [],
   "source": [
    "joined_df = df1.join(df1, on='start_station_name', how='inner', rsuffix='_r', allow_duplication=True)"
   ]
  },
  {
   "cell_type": "code",
   "execution_count": 63,
   "metadata": {},
   "outputs": [],
   "source": [
    "dfv = df[:10000000]\n",
    "dfp = df[:10000000].to_pandas_df()"
   ]
  },
  {
   "cell_type": "code",
   "execution_count": 64,
   "metadata": {},
   "outputs": [
    {
     "name": "stdout",
     "output_type": "stream",
     "text": [
      "Vaex time:  0.47106385231018066\n"
     ]
    }
   ],
   "source": [
    "from time import time\n",
    "\n",
    "starttime = time()\n",
    "dfv.start_station_name.str.contains(r'(?i)central\\s*park').values\n",
    "print('Vaex time: ', time() - starttime)"
   ]
  },
  {
   "cell_type": "code",
   "execution_count": 65,
   "metadata": {},
   "outputs": [
    {
     "name": "stdout",
     "output_type": "stream",
     "text": [
      "Pandas time:  6.93208909034729\n"
     ]
    }
   ],
   "source": [
    "starttime = time()\n",
    "dfp.start_station_name.str.contains(r'(?i)central\\s*park').values\n",
    "print('Pandas time: ', time() - starttime)"
   ]
  },
  {
   "cell_type": "code",
   "execution_count": 66,
   "metadata": {},
   "outputs": [
    {
     "data": {
      "text/plain": [
       "14.74468085106383"
      ]
     },
     "execution_count": 66,
     "metadata": {},
     "output_type": "execute_result"
    }
   ],
   "source": [
    "6.93/0.47"
   ]
  }
 ],
 "metadata": {
  "kernelspec": {
   "display_name": "datascience",
   "language": "python",
   "name": "datascience"
  },
  "language_info": {
   "codemirror_mode": {
    "name": "ipython",
    "version": 3
   },
   "file_extension": ".py",
   "mimetype": "text/x-python",
   "name": "python",
   "nbconvert_exporter": "python",
   "pygments_lexer": "ipython3",
   "version": "3.8.2"
  }
 },
 "nbformat": 4,
 "nbformat_minor": 4
}
